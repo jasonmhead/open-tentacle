{
 "cells": [
  {
   "cell_type": "code",
   "execution_count": 1,
   "id": "355272c1",
   "metadata": {},
   "outputs": [],
   "source": [
    "# modified from https://github.com/dbeley/extract_distinct_frames/blob/master/extract_distinct_frames/extract_image.py\n",
    "# mit license\n",
    "\n",
    "import os\n",
    "\n",
    "\n",
    "def extract_image(file, directory, fps):\n",
    "    os.system(\n",
    "        f'ffmpeg -i \"{file}\" -vf fps=\"{fps}\" \"{directory}/thumb%04d.jpg\"'\n",
    "    )"
   ]
  },
  {
   "cell_type": "markdown",
   "id": "70ed2244",
   "metadata": {},
   "source": [
    "'''\n",
    "MIT License\n",
    "\n",
    "Copyright (c) 2019, David Beley\n",
    "\n",
    "Permission is hereby granted, free of charge, to any person obtaining a copy\n",
    "of this software and associated documentation files (the \"Software\"), to deal\n",
    "in the Software without restriction, including without limitation the rights\n",
    "to use, copy, modify, merge, publish, distribute, sublicense, and/or sell\n",
    "copies of the Software, and to permit persons to whom the Software is\n",
    "furnished to do so, subject to the following conditions:\n",
    "\n",
    "The above copyright notice and this permission notice shall be included in all\n",
    "copies or substantial portions of the Software.\n",
    "\n",
    "THE SOFTWARE IS PROVIDED \"AS IS\", WITHOUT WARRANTY OF ANY KIND, EXPRESS OR\n",
    "IMPLIED, INCLUDING BUT NOT LIMITED TO THE WARRANTIES OF MERCHANTABILITY,\n",
    "FITNESS FOR A PARTICULAR PURPOSE AND NONINFRINGEMENT. IN NO EVENT SHALL THE\n",
    "AUTHORS OR COPYRIGHT HOLDERS BE LIABLE FOR ANY CLAIM, DAMAGES OR OTHER\n",
    "LIABILITY, WHETHER IN AN ACTION OF CONTRACT, TORT OR OTHERWISE, ARISING FROM,\n",
    "OUT OF OR IN CONNECTION WITH THE SOFTWARE OR THE USE OR OTHER DEALINGS IN THE\n",
    "SOFTWARE.\n",
    "'''"
   ]
  },
  {
   "cell_type": "code",
   "execution_count": 25,
   "id": "e3ef3e4f",
   "metadata": {},
   "outputs": [],
   "source": [
    "base_dir = r\"C:\\Users\\Jason\\Documents\\Python Scripts\\computer_vision\"\n",
    "\n",
    "file = base_dir+\"\\R.avi\"\n",
    "directory = base_dir+\"\\R\"\n",
    "\n",
    "#suffix = \"\"\n",
    "#file = base_dir+\"vert_\"+suffix+\".mp4\"\n",
    "#directory = base_dir+\"vert_\"+suffix"
   ]
  },
  {
   "cell_type": "code",
   "execution_count": null,
   "id": "3a0f9820",
   "metadata": {},
   "outputs": [],
   "source": []
  },
  {
   "cell_type": "code",
   "execution_count": 110,
   "id": "a27d4f18",
   "metadata": {},
   "outputs": [],
   "source": [
    "# remove dir and re-create\n",
    "####### be careful !!! ######\n",
    "import shutil\n",
    "shutil.rmtree(directory)\n",
    "os.mkdir(directory)"
   ]
  },
  {
   "cell_type": "code",
   "execution_count": 14,
   "id": "adf2b4cc",
   "metadata": {},
   "outputs": [],
   "source": [
    "extract_image(file, directory, 3)"
   ]
  },
  {
   "cell_type": "code",
   "execution_count": 28,
   "id": "75fc000b",
   "metadata": {},
   "outputs": [
    {
     "name": "stdout",
     "output_type": "stream",
     "text": [
      "sfextract --window 500 \"C:\\Users\\Jason\\Documents\\Python Scripts\\computer_vision\\R.avi\" --output \"C:\\Users\\Jason\\Documents\\Python Scripts\\computer_vision\\R\"\n"
     ]
    },
    {
     "data": {
      "text/plain": [
       "0"
      ]
     },
     "execution_count": 28,
     "metadata": {},
     "output_type": "execute_result"
    }
   ],
   "source": [
    "# extract sharp frames \n",
    "extract_sharp_cmd = 'sfextract --window 500 \"'+file+'\" --output \"'+directory+'\"'\n",
    "print(extract_sharp_cmd)\n",
    "\n",
    "os.system(extract_sharp_cmd)"
   ]
  },
  {
   "cell_type": "code",
   "execution_count": 115,
   "id": "72bc25a7",
   "metadata": {},
   "outputs": [],
   "source": [
    "def merge_images(suffix):\n",
    "    # layer frame images\n",
    "    # modified program in \n",
    "    # C:\\Panda3D-1.10.10-x64\\python\\Lib\\site-packages\\focus_stack\n",
    "\n",
    "    suffix = str(suffix)\n",
    "    directory = base_dir+\"vert_\"+suffix\n",
    "    output_image = directory + \"/merged_\"+suffix+\".png\"\n",
    "\n",
    "    img_merge_prog = \"focusstack\"\n",
    "    img_merge_args = \" -i \"+directory+\" -o \"+output_image+\" -m True\"\n",
    "\n",
    "    img_merge_cmd = img_merge_prog + img_merge_args\n",
    "\n",
    "    print (\"merging to \"+output_image)\n",
    "    print(img_merge_cmd)\n",
    "    print(\"---------------------------------------\")\n",
    "\n",
    "    os.system(img_merge_cmd)\n"
   ]
  },
  {
   "cell_type": "code",
   "execution_count": 117,
   "id": "6f68b81d",
   "metadata": {},
   "outputs": [
    {
     "name": "stdout",
     "output_type": "stream",
     "text": [
      "merging to C:\\Users\\Jason\\Documents\\head_robotics\\open-tentacle\\0.1.1\\data\\open_tendon_videos\\vert_2/merged_2.png\n",
      "focusstack -i C:\\Users\\Jason\\Documents\\head_robotics\\open-tentacle\\0.1.1\\data\\open_tendon_videos\\vert_2 -o C:\\Users\\Jason\\Documents\\head_robotics\\open-tentacle\\0.1.1\\data\\open_tendon_videos\\vert_2/merged_2.png -m True\n",
      "---------------------------------------\n"
     ]
    }
   ],
   "source": [
    "merge_images(2)"
   ]
  },
  {
   "cell_type": "code",
   "execution_count": 107,
   "id": "b121aeb8",
   "metadata": {},
   "outputs": [
    {
     "name": "stdout",
     "output_type": "stream",
     "text": [
      "merging to C:\\Users\\Jason\\Documents\\head_robotics\\open-tentacle\\0.1.1\\data\\open_tendon_videos\\vert_7/merged_7.png\n",
      "focusstack -i C:\\Users\\Jason\\Documents\\head_robotics\\open-tentacle\\0.1.1\\data\\open_tendon_videos\\vert_7 -o C:\\Users\\Jason\\Documents\\head_robotics\\open-tentacle\\0.1.1\\data\\open_tendon_videos\\vert_7/merged_7.png -m True\n",
      "---------------------------------------\n",
      "merging to C:\\Users\\Jason\\Documents\\head_robotics\\open-tentacle\\0.1.1\\data\\open_tendon_videos\\vert_6/merged_6.png\n",
      "focusstack -i C:\\Users\\Jason\\Documents\\head_robotics\\open-tentacle\\0.1.1\\data\\open_tendon_videos\\vert_6 -o C:\\Users\\Jason\\Documents\\head_robotics\\open-tentacle\\0.1.1\\data\\open_tendon_videos\\vert_6/merged_6.png -m True\n",
      "---------------------------------------\n",
      "merging to C:\\Users\\Jason\\Documents\\head_robotics\\open-tentacle\\0.1.1\\data\\open_tendon_videos\\vert_5/merged_5.png\n",
      "focusstack -i C:\\Users\\Jason\\Documents\\head_robotics\\open-tentacle\\0.1.1\\data\\open_tendon_videos\\vert_5 -o C:\\Users\\Jason\\Documents\\head_robotics\\open-tentacle\\0.1.1\\data\\open_tendon_videos\\vert_5/merged_5.png -m True\n",
      "---------------------------------------\n",
      "merging to C:\\Users\\Jason\\Documents\\head_robotics\\open-tentacle\\0.1.1\\data\\open_tendon_videos\\vert_4/merged_4.png\n",
      "focusstack -i C:\\Users\\Jason\\Documents\\head_robotics\\open-tentacle\\0.1.1\\data\\open_tendon_videos\\vert_4 -o C:\\Users\\Jason\\Documents\\head_robotics\\open-tentacle\\0.1.1\\data\\open_tendon_videos\\vert_4/merged_4.png -m True\n",
      "---------------------------------------\n",
      "merging to C:\\Users\\Jason\\Documents\\head_robotics\\open-tentacle\\0.1.1\\data\\open_tendon_videos\\vert_3/merged_3.png\n",
      "focusstack -i C:\\Users\\Jason\\Documents\\head_robotics\\open-tentacle\\0.1.1\\data\\open_tendon_videos\\vert_3 -o C:\\Users\\Jason\\Documents\\head_robotics\\open-tentacle\\0.1.1\\data\\open_tendon_videos\\vert_3/merged_3.png -m True\n",
      "---------------------------------------\n",
      "merging to C:\\Users\\Jason\\Documents\\head_robotics\\open-tentacle\\0.1.1\\data\\open_tendon_videos\\vert_2/merged_2.png\n",
      "focusstack -i C:\\Users\\Jason\\Documents\\head_robotics\\open-tentacle\\0.1.1\\data\\open_tendon_videos\\vert_2 -o C:\\Users\\Jason\\Documents\\head_robotics\\open-tentacle\\0.1.1\\data\\open_tendon_videos\\vert_2/merged_2.png -m True\n",
      "---------------------------------------\n",
      "merging to C:\\Users\\Jason\\Documents\\head_robotics\\open-tentacle\\0.1.1\\data\\open_tendon_videos\\vert_1/merged_1.png\n",
      "focusstack -i C:\\Users\\Jason\\Documents\\head_robotics\\open-tentacle\\0.1.1\\data\\open_tendon_videos\\vert_1 -o C:\\Users\\Jason\\Documents\\head_robotics\\open-tentacle\\0.1.1\\data\\open_tendon_videos\\vert_1/merged_1.png -m True\n",
      "---------------------------------------\n"
     ]
    }
   ],
   "source": [
    "# merge vert dir images\n",
    "i = 7\n",
    "while i > 0:\n",
    "    merge_images(str(i))\n",
    "    i = i -1"
   ]
  },
  {
   "cell_type": "code",
   "execution_count": null,
   "id": "be5c4708",
   "metadata": {},
   "outputs": [],
   "source": []
  }
 ],
 "metadata": {
  "kernelspec": {
   "display_name": "Python 3 (ipykernel)",
   "language": "python",
   "name": "python3"
  },
  "language_info": {
   "codemirror_mode": {
    "name": "ipython",
    "version": 3
   },
   "file_extension": ".py",
   "mimetype": "text/x-python",
   "name": "python",
   "nbconvert_exporter": "python",
   "pygments_lexer": "ipython3",
   "version": "3.7.9"
  }
 },
 "nbformat": 4,
 "nbformat_minor": 5
}
